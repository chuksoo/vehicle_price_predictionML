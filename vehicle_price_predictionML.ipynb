{
 "cells": [
  {
   "cell_type": "markdown",
   "source": [
    "# Vehicle price prediction using Machine Learning"
   ],
   "metadata": {}
  },
  {
   "cell_type": "markdown",
   "source": [
    "Rusty Bargain used car sales service is developing an app to attract new customers. In that app, you can quickly find out the market value of your car. You have access to historical data: technical specifications, trim versions, and prices. You need to build the model to determine the value. \n",
    "\n",
    "Rusty Bargain is interested in:\n",
    "\n",
    "- the quality of the prediction;\n",
    "- the speed of the prediction;\n",
    "- the time required for training"
   ],
   "metadata": {}
  },
  {
   "cell_type": "markdown",
   "source": [
    "**Task Statement**\n",
    "\n",
    "- Develop models to predict price of used car. We are to train different models with various hyperparameters (You should make at least two different models, but more is better. Remember, various implementations of gradient boosting don't count as different models.) The main point of this step is to compare gradient boosting methods with random forest, decision tree, and linear regression.\n",
    "- Analyze the speed and quality of the models."
   ],
   "metadata": {}
  },
  {
   "cell_type": "markdown",
   "source": [
    "## Data description"
   ],
   "metadata": {}
  },
  {
   "cell_type": "markdown",
   "source": [
    "The dataset is stored in file `/datasets/car_data.csv`\n",
    "\n",
    "**Features**\n",
    "\n",
    "- DateCrawled — date profile was downloaded from the database\n",
    "- VehicleType — vehicle body type\n",
    "- RegistrationYear — vehicle registration year\n",
    "- Gearbox — gearbox type\n",
    "- Power — power (hp)\n",
    "- Model — vehicle model\n",
    "- Mileage — mileage (measured in km due to dataset's regional specifics)\n",
    "- RegistrationMonth — vehicle registration month\n",
    "- FuelType — fuel type\n",
    "- Brand — vehicle brand\n",
    "- NotRepaired — vehicle repaired or not\n",
    "- DateCreated — date of profile creation\n",
    "- NumberOfPictures — number of vehicle pictures\n",
    "- PostalCode — postal code of profile owner (user)\n",
    "- LastSeen — date of the last activity of the user\n",
    "\n",
    "**Target**\n",
    "- Price — price (Euro)"
   ],
   "metadata": {}
  },
  {
   "cell_type": "markdown",
   "source": [
    "## Objectives\n",
    "\n",
    "The objectives of this project is to:\n",
    "- Develop a model to predict the price of used car\n",
    "- Analyze the speed and quality of prediction, time required for training."
   ],
   "metadata": {}
  },
  {
   "cell_type": "markdown",
   "source": [
    "<hr>\n",
    "\n",
    " # Table of contents\n",
    "\n",
    "<div class=\"alert alert-block alert-info\" style=\"margin-top: 20px\">\n",
    "    <ol>\n",
    "        <li><a href=\"#open_the_data\">Open the data file and study the general information</a></li>\n",
    "        <li><a href=\"#prepare_the_data\">Data preparation</a></li>\n",
    "        <li><a href=\"#model_training\">Model training</a></li>\n",
    "        <li><a href=\"#model_analysis\">Model analysis</a></li>\n",
    "        <li><a href=\"#conclusion\">Conclusion</a></li>\n",
    "    </ol>\n",
    "</div>\n",
    "<br>\n",
    "<hr>"
   ],
   "metadata": {}
  },
  {
   "cell_type": "markdown",
   "source": [
    "<div id=\"open_the_data\">\n",
    "    <h2>Open the data file and study the general information</h2> \n",
    "</div>"
   ],
   "metadata": {}
  },
  {
   "cell_type": "markdown",
   "source": [
    "We require the following libraries: *pandas* and *numpy* for data preprocessing and manipulation, *matplotlib* and *seaborn* for visualization, and *sklearn* for machine learning algorithm development."
   ],
   "metadata": {}
  },
  {
   "cell_type": "code",
   "execution_count": 1,
   "source": [
    "# import pandas and numpy for data preprocessing and manipulation\n",
    "import numpy as np\n",
    "import pandas as pd\n",
    "from pandas.api.types import is_string_dtype\n",
    "from pandas.api.types import is_numeric_dtype\n",
    "import random\n",
    "\n",
    "# import time for time computation\n",
    "import time\n",
    "\n",
    "# matplotlib and seaborn for visualization\n",
    "import matplotlib.pyplot as plt\n",
    "import seaborn as sns\n",
    "%matplotlib inline\n",
    "\n",
    "import sklearn.linear_model\n",
    "import sklearn.metrics\n",
    "import sklearn.neighbors\n",
    "import sklearn.preprocessing\n",
    "\n",
    "from sklearn.model_selection import train_test_split\n",
    "from sklearn.feature_selection import mutual_info_regression\n",
    "\n",
    "from IPython.display import display\n",
    "\n",
    "print('Project libraries has been successfully been imported!')"
   ],
   "outputs": [
    {
     "output_type": "stream",
     "name": "stdout",
     "text": [
      "Project libraries has been successfully been imported!\n"
     ]
    }
   ],
   "metadata": {}
  },
  {
   "cell_type": "code",
   "execution_count": 2,
   "source": [
    "# read the data\n",
    "try:\n",
    "    df = pd.read_csv('https://code.s3.yandex.net/datasets/car_data.csv')\n",
    "except:\n",
    "    df = pd.read_csv('C:/Users/hotty/Desktop/Practicum by Yandex/Projects/Numerical Methods/car_data.csv')\n",
    "print('Data has been read correctly!')"
   ],
   "outputs": [
    {
     "output_type": "stream",
     "name": "stdout",
     "text": [
      "Data has been read correctly!\n"
     ]
    }
   ],
   "metadata": {}
  },
  {
   "cell_type": "code",
   "execution_count": 3,
   "source": [
    "# function to determine if columns in file have null values\n",
    "def get_percent_of_na(df, num):\n",
    "    count = 0\n",
    "    df = df.copy()\n",
    "    s = (df.isna().sum() / df.shape[0])\n",
    "    for column, percent in zip(s.index, s.values):\n",
    "        num_of_nulls = df[column].isna().sum()\n",
    "        if num_of_nulls == 0:\n",
    "            continue\n",
    "        else:\n",
    "            count += 1\n",
    "        print('Column {} has {:.{}%} percent of Nulls, and {} of nulls'.format(column, percent, num, num_of_nulls))\n",
    "    if count != 0:\n",
    "        print(\"\\033[1m\" + 'There are {} columns with NA.'.format(count) + \"\\033[0m\")\n",
    "    else:\n",
    "        print()\n",
    "        print(\"\\033[1m\" + 'There are no columns with NA.' + \"\\033[0m\")\n",
    "        \n",
    "# function to display general information about the dataset\n",
    "def get_info(df):\n",
    "    \"\"\"\n",
    "    This function uses the head(), info(), describe(), shape() and duplicated() \n",
    "    methods to display the general information about the dataset.\n",
    "    \"\"\"\n",
    "    print(\"\\033[1m\" + '-'*100 + \"\\033[0m\")\n",
    "    print('Head:')\n",
    "    print()\n",
    "    display(df.head())\n",
    "    print('-'*100)\n",
    "    print('Info:')\n",
    "    print()\n",
    "    display(df.info())\n",
    "    print('-'*100)\n",
    "    print('Describe:')\n",
    "    print()\n",
    "    display(df.describe())\n",
    "    print('-'*100)\n",
    "    display(df.describe(include='object'))\n",
    "    print()\n",
    "    print('Columns with nulls:')\n",
    "    display(get_percent_of_na(df, 4))  # check this out\n",
    "    print('-'*100)\n",
    "    print('Shape:')\n",
    "    print(df.shape)\n",
    "    print('-'*100)\n",
    "    print('Duplicated:')\n",
    "    print(\"\\033[1m\" + 'We have {} duplicated rows.\\n'.format(df.duplicated().sum()) + \"\\033[0m\")\n",
    "    print()"
   ],
   "outputs": [],
   "metadata": {}
  },
  {
   "cell_type": "code",
   "execution_count": 4,
   "source": [
    "# study the general information about the dataset \n",
    "print('General information about the dataframe')\n",
    "get_info(df)"
   ],
   "outputs": [
    {
     "output_type": "stream",
     "name": "stdout",
     "text": [
      "General information about the dataframe\n",
      "\u001b[1m----------------------------------------------------------------------------------------------------\u001b[0m\n",
      "Head:\n",
      "\n"
     ]
    },
    {
     "output_type": "display_data",
     "data": {
      "text/plain": [
       "        DateCrawled  Price VehicleType  RegistrationYear Gearbox  Power  \\\n",
       "0  24/03/2016 11:52    480         NaN              1993  manual      0   \n",
       "1  24/03/2016 10:58  18300       coupe              2011  manual    190   \n",
       "2  14/03/2016 12:52   9800         suv              2004    auto    163   \n",
       "3  17/03/2016 16:54   1500       small              2001  manual     75   \n",
       "4  31/03/2016 17:25   3600       small              2008  manual     69   \n",
       "\n",
       "   Model  Mileage  RegistrationMonth  FuelType       Brand NotRepaired  \\\n",
       "0   golf   150000                  0    petrol  volkswagen         NaN   \n",
       "1    NaN   125000                  5  gasoline        audi         yes   \n",
       "2  grand   125000                  8  gasoline        jeep         NaN   \n",
       "3   golf   150000                  6    petrol  volkswagen          no   \n",
       "4  fabia    90000                  7  gasoline       skoda          no   \n",
       "\n",
       "        DateCreated  NumberOfPictures  PostalCode          LastSeen  \n",
       "0  24/03/2016 00:00                 0       70435  07/04/2016 03:16  \n",
       "1  24/03/2016 00:00                 0       66954  07/04/2016 01:46  \n",
       "2  14/03/2016 00:00                 0       90480  05/04/2016 12:47  \n",
       "3  17/03/2016 00:00                 0       91074  17/03/2016 17:40  \n",
       "4  31/03/2016 00:00                 0       60437  06/04/2016 10:17  "
      ],
      "text/html": [
       "<div>\n",
       "<style scoped>\n",
       "    .dataframe tbody tr th:only-of-type {\n",
       "        vertical-align: middle;\n",
       "    }\n",
       "\n",
       "    .dataframe tbody tr th {\n",
       "        vertical-align: top;\n",
       "    }\n",
       "\n",
       "    .dataframe thead th {\n",
       "        text-align: right;\n",
       "    }\n",
       "</style>\n",
       "<table border=\"1\" class=\"dataframe\">\n",
       "  <thead>\n",
       "    <tr style=\"text-align: right;\">\n",
       "      <th></th>\n",
       "      <th>DateCrawled</th>\n",
       "      <th>Price</th>\n",
       "      <th>VehicleType</th>\n",
       "      <th>RegistrationYear</th>\n",
       "      <th>Gearbox</th>\n",
       "      <th>Power</th>\n",
       "      <th>Model</th>\n",
       "      <th>Mileage</th>\n",
       "      <th>RegistrationMonth</th>\n",
       "      <th>FuelType</th>\n",
       "      <th>Brand</th>\n",
       "      <th>NotRepaired</th>\n",
       "      <th>DateCreated</th>\n",
       "      <th>NumberOfPictures</th>\n",
       "      <th>PostalCode</th>\n",
       "      <th>LastSeen</th>\n",
       "    </tr>\n",
       "  </thead>\n",
       "  <tbody>\n",
       "    <tr>\n",
       "      <th>0</th>\n",
       "      <td>24/03/2016 11:52</td>\n",
       "      <td>480</td>\n",
       "      <td>NaN</td>\n",
       "      <td>1993</td>\n",
       "      <td>manual</td>\n",
       "      <td>0</td>\n",
       "      <td>golf</td>\n",
       "      <td>150000</td>\n",
       "      <td>0</td>\n",
       "      <td>petrol</td>\n",
       "      <td>volkswagen</td>\n",
       "      <td>NaN</td>\n",
       "      <td>24/03/2016 00:00</td>\n",
       "      <td>0</td>\n",
       "      <td>70435</td>\n",
       "      <td>07/04/2016 03:16</td>\n",
       "    </tr>\n",
       "    <tr>\n",
       "      <th>1</th>\n",
       "      <td>24/03/2016 10:58</td>\n",
       "      <td>18300</td>\n",
       "      <td>coupe</td>\n",
       "      <td>2011</td>\n",
       "      <td>manual</td>\n",
       "      <td>190</td>\n",
       "      <td>NaN</td>\n",
       "      <td>125000</td>\n",
       "      <td>5</td>\n",
       "      <td>gasoline</td>\n",
       "      <td>audi</td>\n",
       "      <td>yes</td>\n",
       "      <td>24/03/2016 00:00</td>\n",
       "      <td>0</td>\n",
       "      <td>66954</td>\n",
       "      <td>07/04/2016 01:46</td>\n",
       "    </tr>\n",
       "    <tr>\n",
       "      <th>2</th>\n",
       "      <td>14/03/2016 12:52</td>\n",
       "      <td>9800</td>\n",
       "      <td>suv</td>\n",
       "      <td>2004</td>\n",
       "      <td>auto</td>\n",
       "      <td>163</td>\n",
       "      <td>grand</td>\n",
       "      <td>125000</td>\n",
       "      <td>8</td>\n",
       "      <td>gasoline</td>\n",
       "      <td>jeep</td>\n",
       "      <td>NaN</td>\n",
       "      <td>14/03/2016 00:00</td>\n",
       "      <td>0</td>\n",
       "      <td>90480</td>\n",
       "      <td>05/04/2016 12:47</td>\n",
       "    </tr>\n",
       "    <tr>\n",
       "      <th>3</th>\n",
       "      <td>17/03/2016 16:54</td>\n",
       "      <td>1500</td>\n",
       "      <td>small</td>\n",
       "      <td>2001</td>\n",
       "      <td>manual</td>\n",
       "      <td>75</td>\n",
       "      <td>golf</td>\n",
       "      <td>150000</td>\n",
       "      <td>6</td>\n",
       "      <td>petrol</td>\n",
       "      <td>volkswagen</td>\n",
       "      <td>no</td>\n",
       "      <td>17/03/2016 00:00</td>\n",
       "      <td>0</td>\n",
       "      <td>91074</td>\n",
       "      <td>17/03/2016 17:40</td>\n",
       "    </tr>\n",
       "    <tr>\n",
       "      <th>4</th>\n",
       "      <td>31/03/2016 17:25</td>\n",
       "      <td>3600</td>\n",
       "      <td>small</td>\n",
       "      <td>2008</td>\n",
       "      <td>manual</td>\n",
       "      <td>69</td>\n",
       "      <td>fabia</td>\n",
       "      <td>90000</td>\n",
       "      <td>7</td>\n",
       "      <td>gasoline</td>\n",
       "      <td>skoda</td>\n",
       "      <td>no</td>\n",
       "      <td>31/03/2016 00:00</td>\n",
       "      <td>0</td>\n",
       "      <td>60437</td>\n",
       "      <td>06/04/2016 10:17</td>\n",
       "    </tr>\n",
       "  </tbody>\n",
       "</table>\n",
       "</div>"
      ]
     },
     "metadata": {}
    },
    {
     "output_type": "stream",
     "name": "stdout",
     "text": [
      "----------------------------------------------------------------------------------------------------\n",
      "Info:\n",
      "\n",
      "<class 'pandas.core.frame.DataFrame'>\n",
      "RangeIndex: 354369 entries, 0 to 354368\n",
      "Data columns (total 16 columns):\n",
      " #   Column             Non-Null Count   Dtype \n",
      "---  ------             --------------   ----- \n",
      " 0   DateCrawled        354369 non-null  object\n",
      " 1   Price              354369 non-null  int64 \n",
      " 2   VehicleType        316879 non-null  object\n",
      " 3   RegistrationYear   354369 non-null  int64 \n",
      " 4   Gearbox            334536 non-null  object\n",
      " 5   Power              354369 non-null  int64 \n",
      " 6   Model              334664 non-null  object\n",
      " 7   Mileage            354369 non-null  int64 \n",
      " 8   RegistrationMonth  354369 non-null  int64 \n",
      " 9   FuelType           321474 non-null  object\n",
      " 10  Brand              354369 non-null  object\n",
      " 11  NotRepaired        283215 non-null  object\n",
      " 12  DateCreated        354369 non-null  object\n",
      " 13  NumberOfPictures   354369 non-null  int64 \n",
      " 14  PostalCode         354369 non-null  int64 \n",
      " 15  LastSeen           354369 non-null  object\n",
      "dtypes: int64(7), object(9)\n",
      "memory usage: 43.3+ MB\n"
     ]
    },
    {
     "output_type": "display_data",
     "data": {
      "text/plain": [
       "None"
      ]
     },
     "metadata": {}
    },
    {
     "output_type": "stream",
     "name": "stdout",
     "text": [
      "----------------------------------------------------------------------------------------------------\n",
      "Describe:\n",
      "\n"
     ]
    },
    {
     "output_type": "display_data",
     "data": {
      "text/plain": [
       "               Price  RegistrationYear          Power        Mileage  \\\n",
       "count  354369.000000     354369.000000  354369.000000  354369.000000   \n",
       "mean     4416.656776       2004.234448     110.094337  128211.172535   \n",
       "std      4514.158514         90.227958     189.850405   37905.341530   \n",
       "min         0.000000       1000.000000       0.000000    5000.000000   \n",
       "25%      1050.000000       1999.000000      69.000000  125000.000000   \n",
       "50%      2700.000000       2003.000000     105.000000  150000.000000   \n",
       "75%      6400.000000       2008.000000     143.000000  150000.000000   \n",
       "max     20000.000000       9999.000000   20000.000000  150000.000000   \n",
       "\n",
       "       RegistrationMonth  NumberOfPictures     PostalCode  \n",
       "count      354369.000000          354369.0  354369.000000  \n",
       "mean            5.714645               0.0   50508.689087  \n",
       "std             3.726421               0.0   25783.096248  \n",
       "min             0.000000               0.0    1067.000000  \n",
       "25%             3.000000               0.0   30165.000000  \n",
       "50%             6.000000               0.0   49413.000000  \n",
       "75%             9.000000               0.0   71083.000000  \n",
       "max            12.000000               0.0   99998.000000  "
      ],
      "text/html": [
       "<div>\n",
       "<style scoped>\n",
       "    .dataframe tbody tr th:only-of-type {\n",
       "        vertical-align: middle;\n",
       "    }\n",
       "\n",
       "    .dataframe tbody tr th {\n",
       "        vertical-align: top;\n",
       "    }\n",
       "\n",
       "    .dataframe thead th {\n",
       "        text-align: right;\n",
       "    }\n",
       "</style>\n",
       "<table border=\"1\" class=\"dataframe\">\n",
       "  <thead>\n",
       "    <tr style=\"text-align: right;\">\n",
       "      <th></th>\n",
       "      <th>Price</th>\n",
       "      <th>RegistrationYear</th>\n",
       "      <th>Power</th>\n",
       "      <th>Mileage</th>\n",
       "      <th>RegistrationMonth</th>\n",
       "      <th>NumberOfPictures</th>\n",
       "      <th>PostalCode</th>\n",
       "    </tr>\n",
       "  </thead>\n",
       "  <tbody>\n",
       "    <tr>\n",
       "      <th>count</th>\n",
       "      <td>354369.000000</td>\n",
       "      <td>354369.000000</td>\n",
       "      <td>354369.000000</td>\n",
       "      <td>354369.000000</td>\n",
       "      <td>354369.000000</td>\n",
       "      <td>354369.0</td>\n",
       "      <td>354369.000000</td>\n",
       "    </tr>\n",
       "    <tr>\n",
       "      <th>mean</th>\n",
       "      <td>4416.656776</td>\n",
       "      <td>2004.234448</td>\n",
       "      <td>110.094337</td>\n",
       "      <td>128211.172535</td>\n",
       "      <td>5.714645</td>\n",
       "      <td>0.0</td>\n",
       "      <td>50508.689087</td>\n",
       "    </tr>\n",
       "    <tr>\n",
       "      <th>std</th>\n",
       "      <td>4514.158514</td>\n",
       "      <td>90.227958</td>\n",
       "      <td>189.850405</td>\n",
       "      <td>37905.341530</td>\n",
       "      <td>3.726421</td>\n",
       "      <td>0.0</td>\n",
       "      <td>25783.096248</td>\n",
       "    </tr>\n",
       "    <tr>\n",
       "      <th>min</th>\n",
       "      <td>0.000000</td>\n",
       "      <td>1000.000000</td>\n",
       "      <td>0.000000</td>\n",
       "      <td>5000.000000</td>\n",
       "      <td>0.000000</td>\n",
       "      <td>0.0</td>\n",
       "      <td>1067.000000</td>\n",
       "    </tr>\n",
       "    <tr>\n",
       "      <th>25%</th>\n",
       "      <td>1050.000000</td>\n",
       "      <td>1999.000000</td>\n",
       "      <td>69.000000</td>\n",
       "      <td>125000.000000</td>\n",
       "      <td>3.000000</td>\n",
       "      <td>0.0</td>\n",
       "      <td>30165.000000</td>\n",
       "    </tr>\n",
       "    <tr>\n",
       "      <th>50%</th>\n",
       "      <td>2700.000000</td>\n",
       "      <td>2003.000000</td>\n",
       "      <td>105.000000</td>\n",
       "      <td>150000.000000</td>\n",
       "      <td>6.000000</td>\n",
       "      <td>0.0</td>\n",
       "      <td>49413.000000</td>\n",
       "    </tr>\n",
       "    <tr>\n",
       "      <th>75%</th>\n",
       "      <td>6400.000000</td>\n",
       "      <td>2008.000000</td>\n",
       "      <td>143.000000</td>\n",
       "      <td>150000.000000</td>\n",
       "      <td>9.000000</td>\n",
       "      <td>0.0</td>\n",
       "      <td>71083.000000</td>\n",
       "    </tr>\n",
       "    <tr>\n",
       "      <th>max</th>\n",
       "      <td>20000.000000</td>\n",
       "      <td>9999.000000</td>\n",
       "      <td>20000.000000</td>\n",
       "      <td>150000.000000</td>\n",
       "      <td>12.000000</td>\n",
       "      <td>0.0</td>\n",
       "      <td>99998.000000</td>\n",
       "    </tr>\n",
       "  </tbody>\n",
       "</table>\n",
       "</div>"
      ]
     },
     "metadata": {}
    },
    {
     "output_type": "stream",
     "name": "stdout",
     "text": [
      "----------------------------------------------------------------------------------------------------\n"
     ]
    },
    {
     "output_type": "display_data",
     "data": {
      "text/plain": [
       "             DateCrawled VehicleType Gearbox   Model FuelType       Brand  \\\n",
       "count             354369      316879  334536  334664   321474      354369   \n",
       "unique             15470           8       2     250        7          40   \n",
       "top     05/03/2016 14:25       sedan  manual    golf   petrol  volkswagen   \n",
       "freq                  66       91457  268251   29232   216352       77013   \n",
       "\n",
       "       NotRepaired       DateCreated          LastSeen  \n",
       "count       283215            354369            354369  \n",
       "unique           2               109             18592  \n",
       "top             no  03/04/2016 00:00  07/04/2016 07:16  \n",
       "freq        247161             13719               654  "
      ],
      "text/html": [
       "<div>\n",
       "<style scoped>\n",
       "    .dataframe tbody tr th:only-of-type {\n",
       "        vertical-align: middle;\n",
       "    }\n",
       "\n",
       "    .dataframe tbody tr th {\n",
       "        vertical-align: top;\n",
       "    }\n",
       "\n",
       "    .dataframe thead th {\n",
       "        text-align: right;\n",
       "    }\n",
       "</style>\n",
       "<table border=\"1\" class=\"dataframe\">\n",
       "  <thead>\n",
       "    <tr style=\"text-align: right;\">\n",
       "      <th></th>\n",
       "      <th>DateCrawled</th>\n",
       "      <th>VehicleType</th>\n",
       "      <th>Gearbox</th>\n",
       "      <th>Model</th>\n",
       "      <th>FuelType</th>\n",
       "      <th>Brand</th>\n",
       "      <th>NotRepaired</th>\n",
       "      <th>DateCreated</th>\n",
       "      <th>LastSeen</th>\n",
       "    </tr>\n",
       "  </thead>\n",
       "  <tbody>\n",
       "    <tr>\n",
       "      <th>count</th>\n",
       "      <td>354369</td>\n",
       "      <td>316879</td>\n",
       "      <td>334536</td>\n",
       "      <td>334664</td>\n",
       "      <td>321474</td>\n",
       "      <td>354369</td>\n",
       "      <td>283215</td>\n",
       "      <td>354369</td>\n",
       "      <td>354369</td>\n",
       "    </tr>\n",
       "    <tr>\n",
       "      <th>unique</th>\n",
       "      <td>15470</td>\n",
       "      <td>8</td>\n",
       "      <td>2</td>\n",
       "      <td>250</td>\n",
       "      <td>7</td>\n",
       "      <td>40</td>\n",
       "      <td>2</td>\n",
       "      <td>109</td>\n",
       "      <td>18592</td>\n",
       "    </tr>\n",
       "    <tr>\n",
       "      <th>top</th>\n",
       "      <td>05/03/2016 14:25</td>\n",
       "      <td>sedan</td>\n",
       "      <td>manual</td>\n",
       "      <td>golf</td>\n",
       "      <td>petrol</td>\n",
       "      <td>volkswagen</td>\n",
       "      <td>no</td>\n",
       "      <td>03/04/2016 00:00</td>\n",
       "      <td>07/04/2016 07:16</td>\n",
       "    </tr>\n",
       "    <tr>\n",
       "      <th>freq</th>\n",
       "      <td>66</td>\n",
       "      <td>91457</td>\n",
       "      <td>268251</td>\n",
       "      <td>29232</td>\n",
       "      <td>216352</td>\n",
       "      <td>77013</td>\n",
       "      <td>247161</td>\n",
       "      <td>13719</td>\n",
       "      <td>654</td>\n",
       "    </tr>\n",
       "  </tbody>\n",
       "</table>\n",
       "</div>"
      ]
     },
     "metadata": {}
    },
    {
     "output_type": "stream",
     "name": "stdout",
     "text": [
      "\n",
      "Columns with nulls:\n",
      "Column VehicleType has 10.5794% percent of Nulls, and 37490 of nulls\n",
      "Column Gearbox has 5.5967% percent of Nulls, and 19833 of nulls\n",
      "Column Model has 5.5606% percent of Nulls, and 19705 of nulls\n",
      "Column FuelType has 9.2827% percent of Nulls, and 32895 of nulls\n",
      "Column NotRepaired has 20.0791% percent of Nulls, and 71154 of nulls\n",
      "\u001b[1mThere are 5 columns with NA.\u001b[0m\n"
     ]
    },
    {
     "output_type": "display_data",
     "data": {
      "text/plain": [
       "None"
      ]
     },
     "metadata": {}
    },
    {
     "output_type": "stream",
     "name": "stdout",
     "text": [
      "----------------------------------------------------------------------------------------------------\n",
      "Shape:\n",
      "(354369, 16)\n",
      "----------------------------------------------------------------------------------------------------\n",
      "Duplicated:\n",
      "\u001b[1mWe have 262 duplicated rows.\n",
      "\u001b[0m\n",
      "\n"
     ]
    }
   ],
   "metadata": {}
  },
  {
   "cell_type": "markdown",
   "source": [
    "<h3>Conclusion</h3>\n",
    "\n",
    "By looking at the general information on the data, we can see that the data contains 354,369 rows and 16 columns. There are 5 columns with missing values. The missing values in the dataset are mostly missing at random (MAR). In some cases, these missing values are visible error during data compilation, or data omission. Since these columns are important to our model building process, we will look for a way to fill-in the missing values. It should be noted that the `sonstige_autos` brand is missing values not at random(MNAR). From the data, we have 262 duplicated rows which we have to deal with. We also need to convert datatype for some features.  "
   ],
   "metadata": {}
  },
  {
   "cell_type": "markdown",
   "source": [
    "<div id=\"prepare_the_data\">\n",
    "    <h2>Data preparation</h2> \n",
    "</div>"
   ],
   "metadata": {}
  },
  {
   "cell_type": "markdown",
   "source": [
    "The first step in data preparation is to replace the column names."
   ],
   "metadata": {}
  },
  {
   "cell_type": "markdown",
   "source": [
    "### Replace the column names"
   ],
   "metadata": {}
  },
  {
   "cell_type": "code",
   "execution_count": 5,
   "source": [
    "# rename columns\n",
    "df = df.rename(columns={'DateCrawled': 'date_crawled', 'Price': 'price', 'VehicleType': 'vehicle_type', 'RegistrationYear': 'registration_year', 'Gearbox': 'gearbox',\n",
    "       'Power': 'power', 'Model': 'model', 'Mileage': 'mileage', 'RegistrationMonth': 'registration_month', 'FuelType': 'fuel_type', 'Brand': 'brand',\n",
    "       'NotRepaired': 'not_repaired', 'DateCreated': 'date_created', 'NumberOfPictures': 'number_of_pictures', 'PostalCode': 'postal_code', 'LastSeen': 'last_seen'})"
   ],
   "outputs": [],
   "metadata": {}
  },
  {
   "cell_type": "markdown",
   "source": [
    "### Dealing with missing values"
   ],
   "metadata": {}
  },
  {
   "cell_type": "code",
   "execution_count": 6,
   "source": [
    "# function to calculate the percentage of missing values\n",
    "def missing_values_table(df):\n",
    "        # Total missing values\n",
    "        mis_val = df.isnull().sum()\n",
    "        \n",
    "        # Percentage of missing values\n",
    "        mis_val_percent = 100 * df.isnull().sum() / len(df)\n",
    "        \n",
    "        # Make a table with the results\n",
    "        mis_val_table = pd.concat([mis_val, mis_val_percent], axis=1)\n",
    "        \n",
    "        # Rename the columns\n",
    "        mis_val_table_ren_columns = mis_val_table.rename(\n",
    "        columns = {0 : 'Missing Values', 1 : '% of Total Values'})\n",
    "        \n",
    "        # Sort the table by percentage of missing descending\n",
    "        mis_val_table_ren_columns = mis_val_table_ren_columns[\n",
    "            mis_val_table_ren_columns.iloc[:,1] != 0].sort_values(\n",
    "        '% of Total Values', ascending=False).round(1)\n",
    "        \n",
    "        # Print some summary information\n",
    "        print (\"Your selected dataframe has \" + str(df.shape[1]) + \" columns.\\n\"      \n",
    "            \"There are \" + str(mis_val_table_ren_columns.shape[0]) +\n",
    "              \" columns that have missing values.\")\n",
    "        \n",
    "        # Return the dataframe with missing information\n",
    "        return mis_val_table_ren_columns"
   ],
   "outputs": [],
   "metadata": {}
  },
  {
   "cell_type": "code",
   "execution_count": 7,
   "source": [
    "# check missing data\n",
    "missing_values_table(df)"
   ],
   "outputs": [
    {
     "output_type": "stream",
     "name": "stdout",
     "text": [
      "Your selected dataframe has 16 columns.\n",
      "There are 5 columns that have missing values.\n"
     ]
    },
    {
     "output_type": "execute_result",
     "data": {
      "text/plain": [
       "              Missing Values  % of Total Values\n",
       "not_repaired           71154               20.1\n",
       "vehicle_type           37490               10.6\n",
       "fuel_type              32895                9.3\n",
       "gearbox                19833                5.6\n",
       "model                  19705                5.6"
      ],
      "text/html": [
       "<div>\n",
       "<style scoped>\n",
       "    .dataframe tbody tr th:only-of-type {\n",
       "        vertical-align: middle;\n",
       "    }\n",
       "\n",
       "    .dataframe tbody tr th {\n",
       "        vertical-align: top;\n",
       "    }\n",
       "\n",
       "    .dataframe thead th {\n",
       "        text-align: right;\n",
       "    }\n",
       "</style>\n",
       "<table border=\"1\" class=\"dataframe\">\n",
       "  <thead>\n",
       "    <tr style=\"text-align: right;\">\n",
       "      <th></th>\n",
       "      <th>Missing Values</th>\n",
       "      <th>% of Total Values</th>\n",
       "    </tr>\n",
       "  </thead>\n",
       "  <tbody>\n",
       "    <tr>\n",
       "      <th>not_repaired</th>\n",
       "      <td>71154</td>\n",
       "      <td>20.1</td>\n",
       "    </tr>\n",
       "    <tr>\n",
       "      <th>vehicle_type</th>\n",
       "      <td>37490</td>\n",
       "      <td>10.6</td>\n",
       "    </tr>\n",
       "    <tr>\n",
       "      <th>fuel_type</th>\n",
       "      <td>32895</td>\n",
       "      <td>9.3</td>\n",
       "    </tr>\n",
       "    <tr>\n",
       "      <th>gearbox</th>\n",
       "      <td>19833</td>\n",
       "      <td>5.6</td>\n",
       "    </tr>\n",
       "    <tr>\n",
       "      <th>model</th>\n",
       "      <td>19705</td>\n",
       "      <td>5.6</td>\n",
       "    </tr>\n",
       "  </tbody>\n",
       "</table>\n",
       "</div>"
      ]
     },
     "metadata": {},
     "execution_count": 7
    }
   ],
   "metadata": {}
  },
  {
   "cell_type": "markdown",
   "source": [
    "We can see that `not_repaired` has 20.1% missing values, while `vehicle_type`, `fuel_type`, `gearbox` and `model` have less than 10% missing value. We can decide to drop missing values less than 10% but a better way to deal with the missing value is to fill it systematically using the property of the data."
   ],
   "metadata": {}
  },
  {
   "cell_type": "markdown",
   "source": [
    "#### Prepare `model` features"
   ],
   "metadata": {}
  },
  {
   "cell_type": "code",
   "execution_count": 8,
   "source": [
    "# function to replace missing values\n",
    "def replace_missing_value(unique_value_feature, col_to_replace):  \n",
    "    \"\"\"\n",
    "    This function is used to replace missing value in a column\n",
    "    using possible unique value feature for those missing values    \n",
    "    \"\"\"\n",
    "    # get unique value of feature from this dataframe\n",
    "    for value in df[unique_value_feature].unique().tolist():\n",
    "        # get specific value of features using possible value from column value to replace\n",
    "        specific_value_df = df[df[unique_value_feature] == value].dropna()[col_to_replace]    \n",
    "        value_replacement_list = specific_value_df.unique().tolist()\n",
    "        # for the missing value, assign a random choice of the replacement value for that unknown value\n",
    "        if value_replacement_list != []:\n",
    "            df.loc[(df[unique_value_feature] == value) & (df[col_to_replace] != df[col_to_replace]), col_to_replace] = random.choice(value_replacement_list)\n",
    "        else:\n",
    "            df.loc[(df[unique_value_feature] == value) & (df[col_to_replace] != df[col_to_replace]), col_to_replace] = df[col_to_replace].mode() "
   ],
   "outputs": [],
   "metadata": {}
  },
  {
   "cell_type": "markdown",
   "source": [
    "To replace missing values in the `model` column, we first get the unique value of vehicle brand, then get the list of specific brand with possible model for that brand. We then choose a random value from the list (excluding the nan values) and assign that to the missing `model` for that vehicle brand in the dataframe. For unique brand with an empty list, we use the most frequent value in the model column."
   ],
   "metadata": {}
  },
  {
   "cell_type": "code",
   "execution_count": 9,
   "source": [
    "# replace missing value in `model` column\n",
    "replace_missing_value('brand', 'model')"
   ],
   "outputs": [],
   "metadata": {}
  },
  {
   "cell_type": "markdown",
   "source": [
    "#### Prepare `vehicle_type` features"
   ],
   "metadata": {}
  },
  {
   "cell_type": "markdown",
   "source": [
    "To replace missing values in the `vehicle_type` column, we first get the unique values of vehicle model, then get the list of specific model with possible vehicle type for that model. We then choose a random value from the list (excluding the nan values) and assign that to the missing `vehicle_type` for that vehicle model in the dataframe. For unique model with an empty list, we use the most frequent value in the vehicle type column."
   ],
   "metadata": {}
  },
  {
   "cell_type": "code",
   "execution_count": 10,
   "source": [
    "# replace missing value in `vehicle type` column\n",
    "replace_missing_value('model', 'vehicle_type')"
   ],
   "outputs": [],
   "metadata": {}
  },
  {
   "cell_type": "markdown",
   "source": [
    "#### Prepare `fuel_type` features"
   ],
   "metadata": {}
  },
  {
   "cell_type": "markdown",
   "source": [
    "We apply similar strategy of replacing missing values to the `fuel_type` and `gearbox` features."
   ],
   "metadata": {}
  },
  {
   "cell_type": "code",
   "execution_count": 11,
   "source": [
    "# replace missing value in `fuel_type` column\n",
    "replace_missing_value('model', 'fuel_type')"
   ],
   "outputs": [],
   "metadata": {}
  },
  {
   "cell_type": "markdown",
   "source": [
    "#### Prepare `gearbox` features"
   ],
   "metadata": {}
  },
  {
   "cell_type": "code",
   "execution_count": 12,
   "source": [
    "# replace missing value in `gearbox` column\n",
    "replace_missing_value('model', 'gearbox')"
   ],
   "outputs": [],
   "metadata": {}
  },
  {
   "cell_type": "markdown",
   "source": [
    "#### Prepare `not_repaired` features"
   ],
   "metadata": {}
  },
  {
   "cell_type": "markdown",
   "source": [
    "For the `not_repaired` feature, there is no way to tell which listing was repaired or not so we fill missing values with a new category 'unknown'. "
   ],
   "metadata": {}
  },
  {
   "cell_type": "code",
   "execution_count": 13,
   "source": [
    "# replace 'NaN' in the `not_repaired` column\n",
    "df['not_repaired'].fillna('unknown', inplace=True)\n",
    "df.not_repaired.value_counts()"
   ],
   "outputs": [
    {
     "output_type": "execute_result",
     "data": {
      "text/plain": [
       "no         247161\n",
       "unknown     71154\n",
       "yes         36054\n",
       "Name: not_repaired, dtype: int64"
      ]
     },
     "metadata": {},
     "execution_count": 13
    }
   ],
   "metadata": {}
  },
  {
   "cell_type": "code",
   "execution_count": 14,
   "source": [
    "# re-check to be sure no missing value\n",
    "missing_values_table(df)"
   ],
   "outputs": [
    {
     "output_type": "stream",
     "name": "stdout",
     "text": [
      "Your selected dataframe has 16 columns.\n",
      "There are 4 columns that have missing values.\n"
     ]
    },
    {
     "output_type": "execute_result",
     "data": {
      "text/plain": [
       "              Missing Values  % of Total Values\n",
       "model                   3374                1.0\n",
       "gearbox                 1104                0.3\n",
       "fuel_type               1104                0.3\n",
       "vehicle_type            1042                0.3"
      ],
      "text/html": [
       "<div>\n",
       "<style scoped>\n",
       "    .dataframe tbody tr th:only-of-type {\n",
       "        vertical-align: middle;\n",
       "    }\n",
       "\n",
       "    .dataframe tbody tr th {\n",
       "        vertical-align: top;\n",
       "    }\n",
       "\n",
       "    .dataframe thead th {\n",
       "        text-align: right;\n",
       "    }\n",
       "</style>\n",
       "<table border=\"1\" class=\"dataframe\">\n",
       "  <thead>\n",
       "    <tr style=\"text-align: right;\">\n",
       "      <th></th>\n",
       "      <th>Missing Values</th>\n",
       "      <th>% of Total Values</th>\n",
       "    </tr>\n",
       "  </thead>\n",
       "  <tbody>\n",
       "    <tr>\n",
       "      <th>model</th>\n",
       "      <td>3374</td>\n",
       "      <td>1.0</td>\n",
       "    </tr>\n",
       "    <tr>\n",
       "      <th>gearbox</th>\n",
       "      <td>1104</td>\n",
       "      <td>0.3</td>\n",
       "    </tr>\n",
       "    <tr>\n",
       "      <th>fuel_type</th>\n",
       "      <td>1104</td>\n",
       "      <td>0.3</td>\n",
       "    </tr>\n",
       "    <tr>\n",
       "      <th>vehicle_type</th>\n",
       "      <td>1042</td>\n",
       "      <td>0.3</td>\n",
       "    </tr>\n",
       "  </tbody>\n",
       "</table>\n",
       "</div>"
      ]
     },
     "metadata": {},
     "execution_count": 14
    }
   ],
   "metadata": {}
  },
  {
   "cell_type": "markdown",
   "source": [
    "From the recheck for missing value, we see that we still have some values missing. We can look into the dataset to fish out the category with the missing value. From the dataframe with missing value, we can observe that most of the missing values are missing not at random (MNAR). This means that the `fuel_type`, `model`, `gearbox` and `vehicle type` across the rows are missing some value. A critical look will show that the `sonstige_autos` brand has 'NaN' as brand name. Since this represents a brand category, dropping the rows with missing value may introduce bias in our dataset. The best option will be to fill the missing values with 'unknown' rather than dropping the `sonstige_autos` brand from the dataset."
   ],
   "metadata": {}
  },
  {
   "cell_type": "code",
   "execution_count": 15,
   "source": [
    "# dataframe with missing value\n",
    "df[(df['model'].isnull()) & (df['brand'] == 'sonstige_autos')]"
   ],
   "outputs": [
    {
     "output_type": "execute_result",
     "data": {
      "text/plain": [
       "            date_crawled  price vehicle_type  registration_year gearbox  \\\n",
       "59      29/03/2016 15:48      1          suv               1994  manual   \n",
       "306     21/03/2016 14:38    200          NaN               2009     NaN   \n",
       "431     20/03/2016 20:45   3950        small               2004    auto   \n",
       "650     30/03/2016 11:55  15000        coupe               1971     NaN   \n",
       "661     01/04/2016 15:56   9900          suv               2000    auto   \n",
       "...                  ...    ...          ...                ...     ...   \n",
       "354062  19/03/2016 11:25   6000        small               2008  manual   \n",
       "354073  19/03/2016 14:53   1750          NaN               1995     NaN   \n",
       "354083  30/03/2016 07:54      0          NaN               2000     NaN   \n",
       "354321  15/03/2016 13:52   9400        wagon               2007  manual   \n",
       "354365  14/03/2016 17:48   2200          NaN               2005     NaN   \n",
       "\n",
       "        power model  mileage  registration_month fuel_type           brand  \\\n",
       "59        286   NaN   150000                  11       NaN  sonstige_autos   \n",
       "306         0   NaN    10000                   0       NaN  sonstige_autos   \n",
       "431         5   NaN    70000                   5  gasoline  sonstige_autos   \n",
       "650         0   NaN     5000                   4       NaN  sonstige_autos   \n",
       "661       250   NaN   150000                   4       lpg  sonstige_autos   \n",
       "...       ...   ...      ...                 ...       ...             ...   \n",
       "354062    155   NaN   150000                   5    petrol  sonstige_autos   \n",
       "354073      0   NaN   100000                  12       NaN  sonstige_autos   \n",
       "354083      0   NaN   150000                   0       NaN  sonstige_autos   \n",
       "354321    200   NaN   150000                   4  gasoline  sonstige_autos   \n",
       "354365      0   NaN    20000                   1       NaN  sonstige_autos   \n",
       "\n",
       "       not_repaired      date_created  number_of_pictures  postal_code  \\\n",
       "59          unknown  29/03/2016 00:00                   0        53721   \n",
       "306         unknown  21/03/2016 00:00                   0         6493   \n",
       "431              no  20/03/2016 00:00                   0        90562   \n",
       "650              no  30/03/2016 00:00                   0        51145   \n",
       "661              no  01/04/2016 00:00                   0        17309   \n",
       "...             ...               ...                 ...          ...   \n",
       "354062           no  19/03/2016 00:00                   0        63069   \n",
       "354073      unknown  19/03/2016 00:00                   0         6188   \n",
       "354083      unknown  30/03/2016 00:00                   0         6686   \n",
       "354321          yes  15/03/2016 00:00                   0        91186   \n",
       "354365      unknown  14/03/2016 00:00                   0        39576   \n",
       "\n",
       "               last_seen  \n",
       "59      06/04/2016 01:44  \n",
       "306     24/03/2016 02:47  \n",
       "431     03/04/2016 04:17  \n",
       "650     07/04/2016 02:45  \n",
       "661     07/04/2016 14:56  \n",
       "...                  ...  \n",
       "354062  07/04/2016 00:46  \n",
       "354073  01/04/2016 01:47  \n",
       "354083  06/04/2016 23:46  \n",
       "354321  17/03/2016 08:16  \n",
       "354365  06/04/2016 00:46  \n",
       "\n",
       "[3374 rows x 16 columns]"
      ],
      "text/html": [
       "<div>\n",
       "<style scoped>\n",
       "    .dataframe tbody tr th:only-of-type {\n",
       "        vertical-align: middle;\n",
       "    }\n",
       "\n",
       "    .dataframe tbody tr th {\n",
       "        vertical-align: top;\n",
       "    }\n",
       "\n",
       "    .dataframe thead th {\n",
       "        text-align: right;\n",
       "    }\n",
       "</style>\n",
       "<table border=\"1\" class=\"dataframe\">\n",
       "  <thead>\n",
       "    <tr style=\"text-align: right;\">\n",
       "      <th></th>\n",
       "      <th>date_crawled</th>\n",
       "      <th>price</th>\n",
       "      <th>vehicle_type</th>\n",
       "      <th>registration_year</th>\n",
       "      <th>gearbox</th>\n",
       "      <th>power</th>\n",
       "      <th>model</th>\n",
       "      <th>mileage</th>\n",
       "      <th>registration_month</th>\n",
       "      <th>fuel_type</th>\n",
       "      <th>brand</th>\n",
       "      <th>not_repaired</th>\n",
       "      <th>date_created</th>\n",
       "      <th>number_of_pictures</th>\n",
       "      <th>postal_code</th>\n",
       "      <th>last_seen</th>\n",
       "    </tr>\n",
       "  </thead>\n",
       "  <tbody>\n",
       "    <tr>\n",
       "      <th>59</th>\n",
       "      <td>29/03/2016 15:48</td>\n",
       "      <td>1</td>\n",
       "      <td>suv</td>\n",
       "      <td>1994</td>\n",
       "      <td>manual</td>\n",
       "      <td>286</td>\n",
       "      <td>NaN</td>\n",
       "      <td>150000</td>\n",
       "      <td>11</td>\n",
       "      <td>NaN</td>\n",
       "      <td>sonstige_autos</td>\n",
       "      <td>unknown</td>\n",
       "      <td>29/03/2016 00:00</td>\n",
       "      <td>0</td>\n",
       "      <td>53721</td>\n",
       "      <td>06/04/2016 01:44</td>\n",
       "    </tr>\n",
       "    <tr>\n",
       "      <th>306</th>\n",
       "      <td>21/03/2016 14:38</td>\n",
       "      <td>200</td>\n",
       "      <td>NaN</td>\n",
       "      <td>2009</td>\n",
       "      <td>NaN</td>\n",
       "      <td>0</td>\n",
       "      <td>NaN</td>\n",
       "      <td>10000</td>\n",
       "      <td>0</td>\n",
       "      <td>NaN</td>\n",
       "      <td>sonstige_autos</td>\n",
       "      <td>unknown</td>\n",
       "      <td>21/03/2016 00:00</td>\n",
       "      <td>0</td>\n",
       "      <td>6493</td>\n",
       "      <td>24/03/2016 02:47</td>\n",
       "    </tr>\n",
       "    <tr>\n",
       "      <th>431</th>\n",
       "      <td>20/03/2016 20:45</td>\n",
       "      <td>3950</td>\n",
       "      <td>small</td>\n",
       "      <td>2004</td>\n",
       "      <td>auto</td>\n",
       "      <td>5</td>\n",
       "      <td>NaN</td>\n",
       "      <td>70000</td>\n",
       "      <td>5</td>\n",
       "      <td>gasoline</td>\n",
       "      <td>sonstige_autos</td>\n",
       "      <td>no</td>\n",
       "      <td>20/03/2016 00:00</td>\n",
       "      <td>0</td>\n",
       "      <td>90562</td>\n",
       "      <td>03/04/2016 04:17</td>\n",
       "    </tr>\n",
       "    <tr>\n",
       "      <th>650</th>\n",
       "      <td>30/03/2016 11:55</td>\n",
       "      <td>15000</td>\n",
       "      <td>coupe</td>\n",
       "      <td>1971</td>\n",
       "      <td>NaN</td>\n",
       "      <td>0</td>\n",
       "      <td>NaN</td>\n",
       "      <td>5000</td>\n",
       "      <td>4</td>\n",
       "      <td>NaN</td>\n",
       "      <td>sonstige_autos</td>\n",
       "      <td>no</td>\n",
       "      <td>30/03/2016 00:00</td>\n",
       "      <td>0</td>\n",
       "      <td>51145</td>\n",
       "      <td>07/04/2016 02:45</td>\n",
       "    </tr>\n",
       "    <tr>\n",
       "      <th>661</th>\n",
       "      <td>01/04/2016 15:56</td>\n",
       "      <td>9900</td>\n",
       "      <td>suv</td>\n",
       "      <td>2000</td>\n",
       "      <td>auto</td>\n",
       "      <td>250</td>\n",
       "      <td>NaN</td>\n",
       "      <td>150000</td>\n",
       "      <td>4</td>\n",
       "      <td>lpg</td>\n",
       "      <td>sonstige_autos</td>\n",
       "      <td>no</td>\n",
       "      <td>01/04/2016 00:00</td>\n",
       "      <td>0</td>\n",
       "      <td>17309</td>\n",
       "      <td>07/04/2016 14:56</td>\n",
       "    </tr>\n",
       "    <tr>\n",
       "      <th>...</th>\n",
       "      <td>...</td>\n",
       "      <td>...</td>\n",
       "      <td>...</td>\n",
       "      <td>...</td>\n",
       "      <td>...</td>\n",
       "      <td>...</td>\n",
       "      <td>...</td>\n",
       "      <td>...</td>\n",
       "      <td>...</td>\n",
       "      <td>...</td>\n",
       "      <td>...</td>\n",
       "      <td>...</td>\n",
       "      <td>...</td>\n",
       "      <td>...</td>\n",
       "      <td>...</td>\n",
       "      <td>...</td>\n",
       "    </tr>\n",
       "    <tr>\n",
       "      <th>354062</th>\n",
       "      <td>19/03/2016 11:25</td>\n",
       "      <td>6000</td>\n",
       "      <td>small</td>\n",
       "      <td>2008</td>\n",
       "      <td>manual</td>\n",
       "      <td>155</td>\n",
       "      <td>NaN</td>\n",
       "      <td>150000</td>\n",
       "      <td>5</td>\n",
       "      <td>petrol</td>\n",
       "      <td>sonstige_autos</td>\n",
       "      <td>no</td>\n",
       "      <td>19/03/2016 00:00</td>\n",
       "      <td>0</td>\n",
       "      <td>63069</td>\n",
       "      <td>07/04/2016 00:46</td>\n",
       "    </tr>\n",
       "    <tr>\n",
       "      <th>354073</th>\n",
       "      <td>19/03/2016 14:53</td>\n",
       "      <td>1750</td>\n",
       "      <td>NaN</td>\n",
       "      <td>1995</td>\n",
       "      <td>NaN</td>\n",
       "      <td>0</td>\n",
       "      <td>NaN</td>\n",
       "      <td>100000</td>\n",
       "      <td>12</td>\n",
       "      <td>NaN</td>\n",
       "      <td>sonstige_autos</td>\n",
       "      <td>unknown</td>\n",
       "      <td>19/03/2016 00:00</td>\n",
       "      <td>0</td>\n",
       "      <td>6188</td>\n",
       "      <td>01/04/2016 01:47</td>\n",
       "    </tr>\n",
       "    <tr>\n",
       "      <th>354083</th>\n",
       "      <td>30/03/2016 07:54</td>\n",
       "      <td>0</td>\n",
       "      <td>NaN</td>\n",
       "      <td>2000</td>\n",
       "      <td>NaN</td>\n",
       "      <td>0</td>\n",
       "      <td>NaN</td>\n",
       "      <td>150000</td>\n",
       "      <td>0</td>\n",
       "      <td>NaN</td>\n",
       "      <td>sonstige_autos</td>\n",
       "      <td>unknown</td>\n",
       "      <td>30/03/2016 00:00</td>\n",
       "      <td>0</td>\n",
       "      <td>6686</td>\n",
       "      <td>06/04/2016 23:46</td>\n",
       "    </tr>\n",
       "    <tr>\n",
       "      <th>354321</th>\n",
       "      <td>15/03/2016 13:52</td>\n",
       "      <td>9400</td>\n",
       "      <td>wagon</td>\n",
       "      <td>2007</td>\n",
       "      <td>manual</td>\n",
       "      <td>200</td>\n",
       "      <td>NaN</td>\n",
       "      <td>150000</td>\n",
       "      <td>4</td>\n",
       "      <td>gasoline</td>\n",
       "      <td>sonstige_autos</td>\n",
       "      <td>yes</td>\n",
       "      <td>15/03/2016 00:00</td>\n",
       "      <td>0</td>\n",
       "      <td>91186</td>\n",
       "      <td>17/03/2016 08:16</td>\n",
       "    </tr>\n",
       "    <tr>\n",
       "      <th>354365</th>\n",
       "      <td>14/03/2016 17:48</td>\n",
       "      <td>2200</td>\n",
       "      <td>NaN</td>\n",
       "      <td>2005</td>\n",
       "      <td>NaN</td>\n",
       "      <td>0</td>\n",
       "      <td>NaN</td>\n",
       "      <td>20000</td>\n",
       "      <td>1</td>\n",
       "      <td>NaN</td>\n",
       "      <td>sonstige_autos</td>\n",
       "      <td>unknown</td>\n",
       "      <td>14/03/2016 00:00</td>\n",
       "      <td>0</td>\n",
       "      <td>39576</td>\n",
       "      <td>06/04/2016 00:46</td>\n",
       "    </tr>\n",
       "  </tbody>\n",
       "</table>\n",
       "<p>3374 rows × 16 columns</p>\n",
       "</div>"
      ]
     },
     "metadata": {},
     "execution_count": 15
    }
   ],
   "metadata": {}
  },
  {
   "cell_type": "code",
   "execution_count": 16,
   "source": [
    "# replace 'NaN' in the new dataframe with 'unknown'\n",
    "df.fillna(value='unknown', inplace=True)"
   ],
   "outputs": [],
   "metadata": {}
  },
  {
   "cell_type": "code",
   "execution_count": 17,
   "source": [
    "#check for missing value\n",
    "missing_values_table(df)"
   ],
   "outputs": [
    {
     "output_type": "stream",
     "name": "stdout",
     "text": [
      "Your selected dataframe has 16 columns.\n",
      "There are 0 columns that have missing values.\n"
     ]
    },
    {
     "output_type": "execute_result",
     "data": {
      "text/plain": [
       "Empty DataFrame\n",
       "Columns: [Missing Values, % of Total Values]\n",
       "Index: []"
      ],
      "text/html": [
       "<div>\n",
       "<style scoped>\n",
       "    .dataframe tbody tr th:only-of-type {\n",
       "        vertical-align: middle;\n",
       "    }\n",
       "\n",
       "    .dataframe tbody tr th {\n",
       "        vertical-align: top;\n",
       "    }\n",
       "\n",
       "    .dataframe thead th {\n",
       "        text-align: right;\n",
       "    }\n",
       "</style>\n",
       "<table border=\"1\" class=\"dataframe\">\n",
       "  <thead>\n",
       "    <tr style=\"text-align: right;\">\n",
       "      <th></th>\n",
       "      <th>Missing Values</th>\n",
       "      <th>% of Total Values</th>\n",
       "    </tr>\n",
       "  </thead>\n",
       "  <tbody>\n",
       "  </tbody>\n",
       "</table>\n",
       "</div>"
      ]
     },
     "metadata": {},
     "execution_count": 17
    }
   ],
   "metadata": {}
  },
  {
   "cell_type": "markdown",
   "source": [
    "### Handling duplicates"
   ],
   "metadata": {}
  },
  {
   "cell_type": "markdown",
   "source": [
    "We handle duplicated values by dropping duplicated rows from the dataset"
   ],
   "metadata": {}
  },
  {
   "cell_type": "code",
   "execution_count": 18,
   "source": [
    "n_duplicated = df.duplicated().sum()\n",
    "\n",
    "# drop duplicates\n",
    "df = df.drop_duplicates()\n",
    "print(f'We handled duplicates by dropping {n_duplicated} duplicated rows giving us {df.shape[0]} total rows in dataset')"
   ],
   "outputs": [
    {
     "output_type": "stream",
     "name": "stdout",
     "text": [
      "We handled duplicates by dropping 266 duplicated rows giving us 354103 total rows in dataset\n"
     ]
    }
   ],
   "metadata": {}
  },
  {
   "cell_type": "code",
   "execution_count": 19,
   "source": [
    "# describe the data\n",
    "df.describe()"
   ],
   "outputs": [
    {
     "output_type": "execute_result",
     "data": {
      "text/plain": [
       "               price  registration_year          power        mileage  \\\n",
       "count  354103.000000      354103.000000  354103.000000  354103.000000   \n",
       "mean     4416.433108        2004.235352     110.089886  128211.904446   \n",
       "std      4514.359029          90.261677     189.915990   37906.699165   \n",
       "min         0.000000        1000.000000       0.000000    5000.000000   \n",
       "25%      1050.000000        1999.000000      69.000000  125000.000000   \n",
       "50%      2700.000000        2003.000000     105.000000  150000.000000   \n",
       "75%      6400.000000        2008.000000     143.000000  150000.000000   \n",
       "max     20000.000000        9999.000000   20000.000000  150000.000000   \n",
       "\n",
       "       registration_month  number_of_pictures    postal_code  \n",
       "count       354103.000000            354103.0  354103.000000  \n",
       "mean             5.714176                 0.0   50507.094187  \n",
       "std              3.726677                 0.0   25784.272537  \n",
       "min              0.000000                 0.0    1067.000000  \n",
       "25%              3.000000                 0.0   30165.000000  \n",
       "50%              6.000000                 0.0   49406.000000  \n",
       "75%              9.000000                 0.0   71083.000000  \n",
       "max             12.000000                 0.0   99998.000000  "
      ],
      "text/html": [
       "<div>\n",
       "<style scoped>\n",
       "    .dataframe tbody tr th:only-of-type {\n",
       "        vertical-align: middle;\n",
       "    }\n",
       "\n",
       "    .dataframe tbody tr th {\n",
       "        vertical-align: top;\n",
       "    }\n",
       "\n",
       "    .dataframe thead th {\n",
       "        text-align: right;\n",
       "    }\n",
       "</style>\n",
       "<table border=\"1\" class=\"dataframe\">\n",
       "  <thead>\n",
       "    <tr style=\"text-align: right;\">\n",
       "      <th></th>\n",
       "      <th>price</th>\n",
       "      <th>registration_year</th>\n",
       "      <th>power</th>\n",
       "      <th>mileage</th>\n",
       "      <th>registration_month</th>\n",
       "      <th>number_of_pictures</th>\n",
       "      <th>postal_code</th>\n",
       "    </tr>\n",
       "  </thead>\n",
       "  <tbody>\n",
       "    <tr>\n",
       "      <th>count</th>\n",
       "      <td>354103.000000</td>\n",
       "      <td>354103.000000</td>\n",
       "      <td>354103.000000</td>\n",
       "      <td>354103.000000</td>\n",
       "      <td>354103.000000</td>\n",
       "      <td>354103.0</td>\n",
       "      <td>354103.000000</td>\n",
       "    </tr>\n",
       "    <tr>\n",
       "      <th>mean</th>\n",
       "      <td>4416.433108</td>\n",
       "      <td>2004.235352</td>\n",
       "      <td>110.089886</td>\n",
       "      <td>128211.904446</td>\n",
       "      <td>5.714176</td>\n",
       "      <td>0.0</td>\n",
       "      <td>50507.094187</td>\n",
       "    </tr>\n",
       "    <tr>\n",
       "      <th>std</th>\n",
       "      <td>4514.359029</td>\n",
       "      <td>90.261677</td>\n",
       "      <td>189.915990</td>\n",
       "      <td>37906.699165</td>\n",
       "      <td>3.726677</td>\n",
       "      <td>0.0</td>\n",
       "      <td>25784.272537</td>\n",
       "    </tr>\n",
       "    <tr>\n",
       "      <th>min</th>\n",
       "      <td>0.000000</td>\n",
       "      <td>1000.000000</td>\n",
       "      <td>0.000000</td>\n",
       "      <td>5000.000000</td>\n",
       "      <td>0.000000</td>\n",
       "      <td>0.0</td>\n",
       "      <td>1067.000000</td>\n",
       "    </tr>\n",
       "    <tr>\n",
       "      <th>25%</th>\n",
       "      <td>1050.000000</td>\n",
       "      <td>1999.000000</td>\n",
       "      <td>69.000000</td>\n",
       "      <td>125000.000000</td>\n",
       "      <td>3.000000</td>\n",
       "      <td>0.0</td>\n",
       "      <td>30165.000000</td>\n",
       "    </tr>\n",
       "    <tr>\n",
       "      <th>50%</th>\n",
       "      <td>2700.000000</td>\n",
       "      <td>2003.000000</td>\n",
       "      <td>105.000000</td>\n",
       "      <td>150000.000000</td>\n",
       "      <td>6.000000</td>\n",
       "      <td>0.0</td>\n",
       "      <td>49406.000000</td>\n",
       "    </tr>\n",
       "    <tr>\n",
       "      <th>75%</th>\n",
       "      <td>6400.000000</td>\n",
       "      <td>2008.000000</td>\n",
       "      <td>143.000000</td>\n",
       "      <td>150000.000000</td>\n",
       "      <td>9.000000</td>\n",
       "      <td>0.0</td>\n",
       "      <td>71083.000000</td>\n",
       "    </tr>\n",
       "    <tr>\n",
       "      <th>max</th>\n",
       "      <td>20000.000000</td>\n",
       "      <td>9999.000000</td>\n",
       "      <td>20000.000000</td>\n",
       "      <td>150000.000000</td>\n",
       "      <td>12.000000</td>\n",
       "      <td>0.0</td>\n",
       "      <td>99998.000000</td>\n",
       "    </tr>\n",
       "  </tbody>\n",
       "</table>\n",
       "</div>"
      ]
     },
     "metadata": {},
     "execution_count": 19
    }
   ],
   "metadata": {}
  },
  {
   "cell_type": "markdown",
   "source": [
    "We have been able to handle missing values in the categorical columns by imputation with the mode based on the property and relationships among features in the dataset. We noticed that majority of the missing values are Missing at random (MAR) so imputation was a better way to handle the missing values. A critical look at the data shows the `sonstige_autos` brand had its data missing not at random (MNAR). To handle this, we filled the missing values with 'unknown' rather than dropping the `sonstige_autos` brand from the dataset. A brief description of the data shows that the data is skewed and there could be present of outliers in the `price` and `power` features. For instance, the maximum value for `power` is 20,000. Now we proceed to change datatypes and carry-out some feature engineering."
   ],
   "metadata": {}
  },
  {
   "cell_type": "markdown",
   "source": [
    "### Change Datatypes"
   ],
   "metadata": {}
  },
  {
   "cell_type": "code",
   "execution_count": 20,
   "source": [
    "# change data to the right type\n",
    "def change_datatype(df, cols, type_val):\n",
    "    for col in cols:\n",
    "        df[col] = df[col].astype(type_val)\n",
    "        \n",
    "change_datatype(df, ['date_crawled', 'date_created', 'last_seen'], 'datetime64[ns]')\n",
    "change_datatype(df, ['price', 'registration_year', 'power', 'registration_month', 'number_of_pictures'], 'int32')"
   ],
   "outputs": [],
   "metadata": {}
  },
  {
   "cell_type": "code",
   "execution_count": 21,
   "source": [
    "# information about the dataset\n",
    "df.info()"
   ],
   "outputs": [
    {
     "output_type": "stream",
     "name": "stdout",
     "text": [
      "<class 'pandas.core.frame.DataFrame'>\n",
      "Int64Index: 354103 entries, 0 to 354368\n",
      "Data columns (total 16 columns):\n",
      " #   Column              Non-Null Count   Dtype         \n",
      "---  ------              --------------   -----         \n",
      " 0   date_crawled        354103 non-null  datetime64[ns]\n",
      " 1   price               354103 non-null  int32         \n",
      " 2   vehicle_type        354103 non-null  object        \n",
      " 3   registration_year   354103 non-null  int32         \n",
      " 4   gearbox             354103 non-null  object        \n",
      " 5   power               354103 non-null  int32         \n",
      " 6   model               354103 non-null  object        \n",
      " 7   mileage             354103 non-null  int64         \n",
      " 8   registration_month  354103 non-null  int32         \n",
      " 9   fuel_type           354103 non-null  object        \n",
      " 10  brand               354103 non-null  object        \n",
      " 11  not_repaired        354103 non-null  object        \n",
      " 12  date_created        354103 non-null  datetime64[ns]\n",
      " 13  number_of_pictures  354103 non-null  int32         \n",
      " 14  postal_code         354103 non-null  int64         \n",
      " 15  last_seen           354103 non-null  datetime64[ns]\n",
      "dtypes: datetime64[ns](3), int32(5), int64(2), object(6)\n",
      "memory usage: 39.2+ MB\n"
     ]
    }
   ],
   "metadata": {}
  },
  {
   "cell_type": "markdown",
   "source": [
    "Now we have our data in the right datatype and reduced memory usage by using `int32` instead of `int64`. This may come in handy during model training."
   ],
   "metadata": {}
  },
  {
   "cell_type": "markdown",
   "source": [
    "### Feature engineering"
   ],
   "metadata": {}
  },
  {
   "cell_type": "code",
   "execution_count": 22,
   "source": [
    "# add new features to tdata\n",
    "df['age'] = df['date_created'].dt.year - df['registration_year']\n",
    "df.head()"
   ],
   "outputs": [
    {
     "output_type": "execute_result",
     "data": {
      "text/plain": [
       "         date_crawled  price vehicle_type  registration_year gearbox  power  \\\n",
       "0 2016-03-24 11:52:00    480        small               1993  manual      0   \n",
       "1 2016-03-24 10:58:00  18300        coupe               2011  manual    190   \n",
       "2 2016-03-14 12:52:00   9800          suv               2004    auto    163   \n",
       "3 2016-03-17 16:54:00   1500        small               2001  manual     75   \n",
       "4 2016-03-31 17:25:00   3600        small               2008  manual     69   \n",
       "\n",
       "   model  mileage  registration_month fuel_type       brand not_repaired  \\\n",
       "0   golf   150000                   0    petrol  volkswagen      unknown   \n",
       "1     a2   125000                   5  gasoline        audi          yes   \n",
       "2  grand   125000                   8  gasoline        jeep      unknown   \n",
       "3   golf   150000                   6    petrol  volkswagen           no   \n",
       "4  fabia    90000                   7  gasoline       skoda           no   \n",
       "\n",
       "  date_created  number_of_pictures  postal_code           last_seen  age  \n",
       "0   2016-03-24                   0        70435 2016-07-04 03:16:00   23  \n",
       "1   2016-03-24                   0        66954 2016-07-04 01:46:00    5  \n",
       "2   2016-03-14                   0        90480 2016-05-04 12:47:00   12  \n",
       "3   2016-03-17                   0        91074 2016-03-17 17:40:00   15  \n",
       "4   2016-03-31                   0        60437 2016-06-04 10:17:00    8  "
      ],
      "text/html": [
       "<div>\n",
       "<style scoped>\n",
       "    .dataframe tbody tr th:only-of-type {\n",
       "        vertical-align: middle;\n",
       "    }\n",
       "\n",
       "    .dataframe tbody tr th {\n",
       "        vertical-align: top;\n",
       "    }\n",
       "\n",
       "    .dataframe thead th {\n",
       "        text-align: right;\n",
       "    }\n",
       "</style>\n",
       "<table border=\"1\" class=\"dataframe\">\n",
       "  <thead>\n",
       "    <tr style=\"text-align: right;\">\n",
       "      <th></th>\n",
       "      <th>date_crawled</th>\n",
       "      <th>price</th>\n",
       "      <th>vehicle_type</th>\n",
       "      <th>registration_year</th>\n",
       "      <th>gearbox</th>\n",
       "      <th>power</th>\n",
       "      <th>model</th>\n",
       "      <th>mileage</th>\n",
       "      <th>registration_month</th>\n",
       "      <th>fuel_type</th>\n",
       "      <th>brand</th>\n",
       "      <th>not_repaired</th>\n",
       "      <th>date_created</th>\n",
       "      <th>number_of_pictures</th>\n",
       "      <th>postal_code</th>\n",
       "      <th>last_seen</th>\n",
       "      <th>age</th>\n",
       "    </tr>\n",
       "  </thead>\n",
       "  <tbody>\n",
       "    <tr>\n",
       "      <th>0</th>\n",
       "      <td>2016-03-24 11:52:00</td>\n",
       "      <td>480</td>\n",
       "      <td>small</td>\n",
       "      <td>1993</td>\n",
       "      <td>manual</td>\n",
       "      <td>0</td>\n",
       "      <td>golf</td>\n",
       "      <td>150000</td>\n",
       "      <td>0</td>\n",
       "      <td>petrol</td>\n",
       "      <td>volkswagen</td>\n",
       "      <td>unknown</td>\n",
       "      <td>2016-03-24</td>\n",
       "      <td>0</td>\n",
       "      <td>70435</td>\n",
       "      <td>2016-07-04 03:16:00</td>\n",
       "      <td>23</td>\n",
       "    </tr>\n",
       "    <tr>\n",
       "      <th>1</th>\n",
       "      <td>2016-03-24 10:58:00</td>\n",
       "      <td>18300</td>\n",
       "      <td>coupe</td>\n",
       "      <td>2011</td>\n",
       "      <td>manual</td>\n",
       "      <td>190</td>\n",
       "      <td>a2</td>\n",
       "      <td>125000</td>\n",
       "      <td>5</td>\n",
       "      <td>gasoline</td>\n",
       "      <td>audi</td>\n",
       "      <td>yes</td>\n",
       "      <td>2016-03-24</td>\n",
       "      <td>0</td>\n",
       "      <td>66954</td>\n",
       "      <td>2016-07-04 01:46:00</td>\n",
       "      <td>5</td>\n",
       "    </tr>\n",
       "    <tr>\n",
       "      <th>2</th>\n",
       "      <td>2016-03-14 12:52:00</td>\n",
       "      <td>9800</td>\n",
       "      <td>suv</td>\n",
       "      <td>2004</td>\n",
       "      <td>auto</td>\n",
       "      <td>163</td>\n",
       "      <td>grand</td>\n",
       "      <td>125000</td>\n",
       "      <td>8</td>\n",
       "      <td>gasoline</td>\n",
       "      <td>jeep</td>\n",
       "      <td>unknown</td>\n",
       "      <td>2016-03-14</td>\n",
       "      <td>0</td>\n",
       "      <td>90480</td>\n",
       "      <td>2016-05-04 12:47:00</td>\n",
       "      <td>12</td>\n",
       "    </tr>\n",
       "    <tr>\n",
       "      <th>3</th>\n",
       "      <td>2016-03-17 16:54:00</td>\n",
       "      <td>1500</td>\n",
       "      <td>small</td>\n",
       "      <td>2001</td>\n",
       "      <td>manual</td>\n",
       "      <td>75</td>\n",
       "      <td>golf</td>\n",
       "      <td>150000</td>\n",
       "      <td>6</td>\n",
       "      <td>petrol</td>\n",
       "      <td>volkswagen</td>\n",
       "      <td>no</td>\n",
       "      <td>2016-03-17</td>\n",
       "      <td>0</td>\n",
       "      <td>91074</td>\n",
       "      <td>2016-03-17 17:40:00</td>\n",
       "      <td>15</td>\n",
       "    </tr>\n",
       "    <tr>\n",
       "      <th>4</th>\n",
       "      <td>2016-03-31 17:25:00</td>\n",
       "      <td>3600</td>\n",
       "      <td>small</td>\n",
       "      <td>2008</td>\n",
       "      <td>manual</td>\n",
       "      <td>69</td>\n",
       "      <td>fabia</td>\n",
       "      <td>90000</td>\n",
       "      <td>7</td>\n",
       "      <td>gasoline</td>\n",
       "      <td>skoda</td>\n",
       "      <td>no</td>\n",
       "      <td>2016-03-31</td>\n",
       "      <td>0</td>\n",
       "      <td>60437</td>\n",
       "      <td>2016-06-04 10:17:00</td>\n",
       "      <td>8</td>\n",
       "    </tr>\n",
       "  </tbody>\n",
       "</table>\n",
       "</div>"
      ]
     },
     "metadata": {},
     "execution_count": 22
    }
   ],
   "metadata": {}
  },
  {
   "cell_type": "markdown",
   "source": [
    "**Conclusion**\n",
    "\n",
    "We added a new feature `age` which is the age of the vehicle. We can carry out exploratory data analysis and check for outlier in the data and remove them if they exist. "
   ],
   "metadata": {}
  },
  {
   "cell_type": "markdown",
   "source": [
    "### Exploratory Data Analysis"
   ],
   "metadata": {}
  },
  {
   "cell_type": "code",
   "execution_count": 23,
   "source": [
    "# function to plot correlation matrix for used car data\n",
    "def corr_matrix(df, label):\n",
    "    plt.figure(figsize=(8,6))\n",
    "    corrMatrix = df.corr()\n",
    "    sns.heatmap(corrMatrix, annot=True)\n",
    "    plt.title('Correlation matrix for ' + label)\n",
    "    plt.show()\n",
    "    \n",
    "# function to plot seaborn barplot\n",
    "def plot_snsbar(df, x, y, title):\n",
    "    xlabel = str(x.replace('_', ' ').capitalize())\n",
    "    ylabel = str(y.replace('_', ' ').capitalize())\n",
    "    # create grouped data\n",
    "    data = df.groupby([x])[y].count().sort_values(ascending=False).reset_index()\n",
    "    fig, ax=plt.subplots(figsize=(12,6))\n",
    "    ax = sns.barplot(x = x, y = y, data=data)\n",
    "    ax.set_title(title, fontdict={'size':12})\n",
    "    ax.set_ylabel(ylabel, fontsize = 10)\n",
    "    ax.set_xlabel(xlabel, fontsize = 10)\n",
    "    ax.set_xticklabels(data[x], rotation=90);"
   ],
   "outputs": [],
   "metadata": {}
  },
  {
   "cell_type": "code",
   "execution_count": 24,
   "source": [
    "# correlation matrix\n",
    "corr_df = df[['price', 'power', 'mileage', 'age']]\n",
    "corr_matrix(corr_df, 'used car data')"
   ],
   "outputs": [
    {
     "output_type": "display_data",
     "data": {
      "text/plain": [
       "<Figure size 576x432 with 2 Axes>"
      ],
      "image/png": "[encoded data removed]"
     },
     "metadata": {
      "needs_background": "light"
     }
    }
   ],
   "metadata": {}
  },
  {
   "cell_type": "markdown",
   "source": [
    "We use the correlation plot (even though it depicts linear correlation amongst variables) to see if any correlation exists amongst some selected variables. We found little or no correlation among those selected variables."
   ],
   "metadata": {}
  },
  {
   "cell_type": "code",
   "execution_count": 25,
   "source": [
    "# histogram of selected variables\n",
    "df[['price', 'power', 'mileage', 'age']].hist(bins=30, figsize=(15, 10))\n",
    "plt.suptitle('Histogram of selected parameters', y=0.95);"
   ],
   "outputs": [
    {
     "output_type": "display_data",
     "data": {
      "text/plain": [
       "<Figure size 1080x720 with 4 Axes>"
      ],
      "image/png": "[encoded data removed]"
     },
     "metadata": {
      "needs_background": "light"
     }
    }
   ],
   "metadata": {}
  },
  {
   "cell_type": "markdown",
   "source": [
    "We plotted the histogram of some features to look at the distribution and check for any anomaly in the data. The distribution plot for `price` shows that most cars are sold between 0 to 7500 euro. Also, majority of the cars have `mileage` greater than 80,000 miles which is expected for a used car. One anomaly we observe is in the `power` feature where we observe that some cars have horsepower greater than 2000 hp. Also, the `age` feature have age less than 0 (or in the negatives). This seems like an outlier and should be removed.   "
   ],
   "metadata": {}
  },
  {
   "cell_type": "code",
   "execution_count": 26,
   "source": [
    "# populate the list of numeric and categorical attributes\n",
    "num_list = []\n",
    "cat_list = []\n",
    "plot_data = df[['price', 'vehicle_type', 'gearbox', 'power', 'mileage', 'fuel_type', 'brand', 'not_repaired', 'age']]\n",
    "\n",
    "for column in plot_data:\n",
    "    if is_numeric_dtype(plot_data[column]):\n",
    "        num_list.append(column)\n",
    "    elif is_string_dtype(plot_data[column]):\n",
    "        cat_list.append(column)\n",
    "        \n",
    "print(num_list)\n",
    "print(cat_list)"
   ],
   "outputs": [
    {
     "output_type": "stream",
     "name": "stdout",
     "text": [
      "['price', 'power', 'mileage', 'age']\n",
      "['vehicle_type', 'gearbox', 'fuel_type', 'brand', 'not_repaired']\n"
     ]
    }
   ],
   "metadata": {}
  },
  {
   "cell_type": "code",
   "execution_count": 27,
   "source": [
    "# create histogram and bar chart\n",
    "for column in plot_data:\n",
    "    plt.figure(column)\n",
    "    plt.xlabel(column)\n",
    "    plt.ylabel('frequency')\n",
    "    plt.title('Histogram of ' + column)\n",
    "    if is_numeric_dtype(plot_data[column]):\n",
    "        df[column].plot(kind = 'hist')\n",
    "    elif is_string_dtype(plot_data[column]):\n",
    "        df[column].value_counts().plot(kind = 'bar')"
   ],
   "outputs": [
    {
     "output_type": "display_data",
     "data": {
      "text/plain": [
       "<Figure size 432x288 with 1 Axes>"
      ],
      "image/png": "[encoded data removed]"
     },
     "metadata": {
      "needs_background": "light"
     }
    },
    {
     "output_type": "display_data",
     "data": {
      "text/plain": [
       "<Figure size 432x288 with 1 Axes>"
      ],
      "image/png": "[encoded data removed]"
     },
     "metadata": {
      "needs_background": "light"
     }
    },
    {
     "output_type": "display_data",
     "data": {
      "text/plain": [
       "<Figure size 432x288 with 1 Axes>"
      ],
      "image/png": "[encoded data removed]"
     },
     "metadata": {
      "needs_background": "light"
     }
    },
    {
     "output_type": "display_data",
     "data": {
      "text/plain": [
       "<Figure size 432x288 with 1 Axes>"
      ],
      "image/png": "[encoded data removed]"
     },
     "metadata": {
      "needs_background": "light"
     }
    },
    {
     "output_type": "display_data",
     "data": {
      "text/plain": [
       "<Figure size 432x288 with 1 Axes>"
      ],
      "image/png": "[encoded data removed]"
     },
     "metadata": {
      "needs_background": "light"
     }
    },
    {
     "output_type": "display_data",
     "data": {
      "text/plain": [
       "<Figure size 432x288 with 1 Axes>"
      ],
      "image/png": "[encoded data removed]"
     },
     "metadata": {
      "needs_background": "light"
     }
    },
    {
     "output_type": "display_data",
     "data": {
      "text/plain": [
       "<Figure size 432x288 with 1 Axes>"
      ],
      "image/png": "[encoded data removed]"
     },
     "metadata": {
      "needs_background": "light"
     }
    },
    {
     "output_type": "display_data",
     "data": {
      "text/plain": [
       "<Figure size 432x288 with 1 Axes>"
      ],
      "image/png": "[encoded data removed]"
     },
     "metadata": {
      "needs_background": "light"
     }
    },
    {
     "output_type": "display_data",
     "data": {
      "text/plain": [
       "<Figure size 432x288 with 1 Axes>"
      ],
      "image/png": "[encoded data removed]"
     },
     "metadata": {
      "needs_background": "light"
     }
    }
   ],
   "metadata": {}
  },
  {
   "cell_type": "markdown",
   "source": [
    "The chart above represent the histogram of the data. We see an anomaly in the histogram of vehicle age with large portion of the age less than zero. This anomaly has to be addressed for our model to make good prediction.  "
   ],
   "metadata": {}
  },
  {
   "cell_type": "code",
   "execution_count": 28,
   "source": [
    "# top selling vehicle brands\n",
    "plot_snsbar(df, 'brand', 'price', 'Plot of total price of used car versus brands')"
   ],
   "outputs": [
    {
     "output_type": "display_data",
     "data": {
      "text/plain": [
       "<Figure size 864x432 with 1 Axes>"
      ],
      "image/png": "[encoded data removed]"
     },
     "metadata": {
      "needs_background": "light"
     }
    }
   ],
   "metadata": {}
  },
  {
   "cell_type": "markdown",
   "source": [
    "**Conclusion**\n",
    "\n",
    "From the visualization done, we can see that the top 10 selling brands in terms of price are *volkswagen, opel, bmw, mercedes benz, audi, ford, renault, peugeot, fiat and seat*. The most sold vehicle is the *sedan* and the *manual* gearbox had the most representation amongst vehicles sold. We have more cars which have not been repaired being represented in the data. Most cars sold either use *petrol or gasoline*. "
   ],
   "metadata": {}
  },
  {
   "cell_type": "markdown",
   "source": [
    "### Outlier detection"
   ],
   "metadata": {}
  },
  {
   "cell_type": "markdown",
   "source": [
    "We filter out the data for vehicle `power` less than 2,039 hp since the highest horsepower car ever built is the [Aspark Owl](https://autowise.com/highest-horsepower-cars/) at 2,039 hp. In addition, the `age` features have age less than 0 (or in the negatives). Those represents outliers in this case and have to be filtered out."
   ],
   "metadata": {}
  },
  {
   "cell_type": "code",
   "execution_count": 29,
   "source": [
    "# filtered full data without anomaly\n",
    "df_filtered = df[(df['power'] <= 2039) & (df['age'] >= 0)]\n",
    "print(f'The shape of the new dataset is: {df_filtered.shape}')\n",
    "print()\n",
    "df_filtered.describe()"
   ],
   "outputs": [
    {
     "output_type": "stream",
     "name": "stdout",
     "text": [
      "The shape of the new dataset is: (339476, 17)\n",
      "\n"
     ]
    },
    {
     "output_type": "execute_result",
     "data": {
      "text/plain": [
       "               price  registration_year          power        mileage  \\\n",
       "count  339476.000000      339476.000000  339476.000000  339476.000000   \n",
       "mean     4470.841541        2002.322633     108.436599  128066.358152   \n",
       "std      4546.389852          13.952584      72.160361   37926.741068   \n",
       "min         0.000000        1000.000000       0.000000    5000.000000   \n",
       "25%      1099.000000        1999.000000      69.000000  125000.000000   \n",
       "50%      2799.000000        2003.000000     105.000000  150000.000000   \n",
       "75%      6500.000000        2007.000000     143.000000  150000.000000   \n",
       "max     20000.000000        2016.000000    2018.000000  150000.000000   \n",
       "\n",
       "       registration_month  number_of_pictures    postal_code            age  \n",
       "count       339476.000000            339476.0  339476.000000  339476.000000  \n",
       "mean             5.754837                 0.0   50604.650514      13.677288  \n",
       "std              3.708773                 0.0   25808.159953      13.952594  \n",
       "min              0.000000                 0.0    1067.000000       0.000000  \n",
       "25%              3.000000                 0.0   30169.000000       9.000000  \n",
       "50%              6.000000                 0.0   49492.000000      13.000000  \n",
       "75%              9.000000                 0.0   71229.000000      17.000000  \n",
       "max             12.000000                 0.0   99998.000000    1016.000000  "
      ],
      "text/html": [
       "<div>\n",
       "<style scoped>\n",
       "    .dataframe tbody tr th:only-of-type {\n",
       "        vertical-align: middle;\n",
       "    }\n",
       "\n",
       "    .dataframe tbody tr th {\n",
       "        vertical-align: top;\n",
       "    }\n",
       "\n",
       "    .dataframe thead th {\n",
       "        text-align: right;\n",
       "    }\n",
       "</style>\n",
       "<table border=\"1\" class=\"dataframe\">\n",
       "  <thead>\n",
       "    <tr style=\"text-align: right;\">\n",
       "      <th></th>\n",
       "      <th>price</th>\n",
       "      <th>registration_year</th>\n",
       "      <th>power</th>\n",
       "      <th>mileage</th>\n",
       "      <th>registration_month</th>\n",
       "      <th>number_of_pictures</th>\n",
       "      <th>postal_code</th>\n",
       "      <th>age</th>\n",
       "    </tr>\n",
       "  </thead>\n",
       "  <tbody>\n",
       "    <tr>\n",
       "      <th>count</th>\n",
       "      <td>339476.000000</td>\n",
       "      <td>339476.000000</td>\n",
       "      <td>339476.000000</td>\n",
       "      <td>339476.000000</td>\n",
       "      <td>339476.000000</td>\n",
       "      <td>339476.0</td>\n",
       "      <td>339476.000000</td>\n",
       "      <td>339476.000000</td>\n",
       "    </tr>\n",
       "    <tr>\n",
       "      <th>mean</th>\n",
       "      <td>4470.841541</td>\n",
       "      <td>2002.322633</td>\n",
       "      <td>108.436599</td>\n",
       "      <td>128066.358152</td>\n",
       "      <td>5.754837</td>\n",
       "      <td>0.0</td>\n",
       "      <td>50604.650514</td>\n",
       "      <td>13.677288</td>\n",
       "    </tr>\n",
       "    <tr>\n",
       "      <th>std</th>\n",
       "      <td>4546.389852</td>\n",
       "      <td>13.952584</td>\n",
       "      <td>72.160361</td>\n",
       "      <td>37926.741068</td>\n",
       "      <td>3.708773</td>\n",
       "      <td>0.0</td>\n",
       "      <td>25808.159953</td>\n",
       "      <td>13.952594</td>\n",
       "    </tr>\n",
       "    <tr>\n",
       "      <th>min</th>\n",
       "      <td>0.000000</td>\n",
       "      <td>1000.000000</td>\n",
       "      <td>0.000000</td>\n",
       "      <td>5000.000000</td>\n",
       "      <td>0.000000</td>\n",
       "      <td>0.0</td>\n",
       "      <td>1067.000000</td>\n",
       "      <td>0.000000</td>\n",
       "    </tr>\n",
       "    <tr>\n",
       "      <th>25%</th>\n",
       "      <td>1099.000000</td>\n",
       "      <td>1999.000000</td>\n",
       "      <td>69.000000</td>\n",
       "      <td>125000.000000</td>\n",
       "      <td>3.000000</td>\n",
       "      <td>0.0</td>\n",
       "      <td>30169.000000</td>\n",
       "      <td>9.000000</td>\n",
       "    </tr>\n",
       "    <tr>\n",
       "      <th>50%</th>\n",
       "      <td>2799.000000</td>\n",
       "      <td>2003.000000</td>\n",
       "      <td>105.000000</td>\n",
       "      <td>150000.000000</td>\n",
       "      <td>6.000000</td>\n",
       "      <td>0.0</td>\n",
       "      <td>49492.000000</td>\n",
       "      <td>13.000000</td>\n",
       "    </tr>\n",
       "    <tr>\n",
       "      <th>75%</th>\n",
       "      <td>6500.000000</td>\n",
       "      <td>2007.000000</td>\n",
       "      <td>143.000000</td>\n",
       "      <td>150000.000000</td>\n",
       "      <td>9.000000</td>\n",
       "      <td>0.0</td>\n",
       "      <td>71229.000000</td>\n",
       "      <td>17.000000</td>\n",
       "    </tr>\n",
       "    <tr>\n",
       "      <th>max</th>\n",
       "      <td>20000.000000</td>\n",
       "      <td>2016.000000</td>\n",
       "      <td>2018.000000</td>\n",
       "      <td>150000.000000</td>\n",
       "      <td>12.000000</td>\n",
       "      <td>0.0</td>\n",
       "      <td>99998.000000</td>\n",
       "      <td>1016.000000</td>\n",
       "    </tr>\n",
       "  </tbody>\n",
       "</table>\n",
       "</div>"
      ]
     },
     "metadata": {},
     "execution_count": 29
    }
   ],
   "metadata": {}
  },
  {
   "cell_type": "markdown",
   "source": [
    "Looking at the description of the filtered data, we don't see any anomaly. Now our data is cleaned and ready for model building and analysis."
   ],
   "metadata": {}
  },
  {
   "cell_type": "markdown",
   "source": [
    "<h3>Conclusion</h3>\n",
    "\n",
    "We began the data preparation step by renaming the columns to lower case, and checking for missing values. We observed tha 5 columns have missing values with `not_repaired` having 20.1% missing values, while `vehicle_type`, `fuel_type`, `gearbox` and `model` have less than 10% missing value. We handled the missing values by filling with unique properties of the data. We then proceeded to drop duplicates, change datatypes to the correct datatype and added a new feature `age` representing the vehicle's age. We carried out exploratory data analysis and check for anomaly in the data. We observed some anomaly in the `power` and `age` features and filtered out the data accordingly. Our new filtered dataset contains 339,476 rows and 17 columns."
   ],
   "metadata": {}
  },
  {
   "cell_type": "markdown",
   "source": [
    "<div id=\"model_training\">\n",
    "    <h2>Model training</h2> \n",
    "</div>"
   ],
   "metadata": {}
  },
  {
   "cell_type": "markdown",
   "source": [
    "In this section, we would train different models with various hyperparameters. Our goal is to compare gradient boosting methods with random forest, decision tree, and linear regression. The root mean squared error or *RMSE* metric would be used to evaluate the models."
   ],
   "metadata": {}
  },
  {
   "cell_type": "code",
   "execution_count": 36,
   "source": [
    "# drop unimportant features\n",
    "car_df = df_filtered.drop(['date_crawled', 'registration_year', 'registration_month', 'date_created', 'number_of_pictures', 'postal_code', 'last_seen'], axis=1)\n",
    "\n",
    "# declare variables for target and features\n",
    "y = car_df.price\n",
    "X = car_df.drop(['price'], axis=1)\n",
    "\n",
    "# split data into 75% training and 25% testing sets\n",
    "X_train, X_test, y_train, y_test = train_test_split(X, y, test_size=0.25, random_state=12345)"
   ],
   "outputs": [],
   "metadata": {}
  },
  {
   "cell_type": "code",
   "execution_count": 51,
   "source": [
    "# select categorical columns with relatively low cardinality\n",
    "low_cardinality_cols = [cname for cname in X_train.columns if X_train[cname].nunique() < 10 and X_train[cname].dtype == 'object']\n",
    "\n",
    "# select numerical columns\n",
    "numerical_cols = [cname for cname in X_train.columns if X_train[cname].dtype in ['int64', 'int32']]\n",
    "\n",
    "# keep selected columns only\n",
    "my_cols = low_cardinality_cols + numerical_cols\n",
    "features_train = X_train[my_cols].copy()\n",
    "features_test = X_test[my_cols].copy()\n",
    "\n",
    "# list of categorical variables\n",
    "s = (features_train.dtypes == 'object')\n",
    "object_cols = list(s[s].index)\n",
    "print('Categorical variables:')\n",
    "print(object_cols)"
   ],
   "outputs": [
    {
     "output_type": "stream",
     "name": "stdout",
     "text": [
      "Categorical variables:\n",
      "['vehicle_type', 'gearbox', 'fuel_type', 'not_repaired']\n"
     ]
    }
   ],
   "metadata": {}
  },
  {
   "cell_type": "code",
   "execution_count": 56,
   "source": [
    "# define function to measure quality of each approach\r\n",
    "from sklearn.ensemble import RandomForestRegressor\r\n",
    "from sklearn.metrics import mean_squared_error\r\n",
    "\r\n",
    "# function for comparing different approaches\r\n",
    "def score_dataset(X_train, X_test, y_train, y_test):\r\n",
    "    model = RandomForestRegressor(n_estimators=100, random_state=0)\r\n",
    "    model.fit(X_train, y_train)\r\n",
    "    y_pred = model.predict(X_test)\r\n",
    "    return np.sqrt(mean_squared_error(y_test, y_pred))"
   ],
   "outputs": [],
   "metadata": {}
  },
  {
   "cell_type": "code",
   "execution_count": 57,
   "source": [
    "# Score from Approach 1: Ordinal Encoding\r\n",
    "\r\n",
    "from sklearn.preprocessing import OrdinalEncoder\r\n",
    "\r\n",
    "# make a copy to avoid changing original data\r\n",
    "label_X_train = features_train.copy()\r\n",
    "label_X_test = features_test.copy()\r\n",
    "\r\n",
    "# apply ordinal encoder to each column with categorical data\r\n",
    "ordinal_encoder = OrdinalEncoder()\r\n",
    "label_X_train[object_cols] = ordinal_encoder.fit_transform(features_train[object_cols])\r\n",
    "label_X_test[object_cols] = ordinal_encoder.transform(features_test[object_cols])\r\n",
    "\r\n",
    "print('RMSE from Approach 1: Ordinal Encoding')\r\n",
    "print(score_dataset(label_X_train, label_X_test, y_train, y_test))"
   ],
   "outputs": [
    {
     "output_type": "stream",
     "name": "stdout",
     "text": [
      "RMSE from Approach 1: Ordinal Encoding\n",
      "1943.348664215152\n"
     ]
    }
   ],
   "metadata": {}
  },
  {
   "cell_type": "code",
   "execution_count": null,
   "source": [
    "# Score from Approach 2: One-Hot Encoding\r\n",
    "from sklearn.preprocessing import OneHotEncoder\r\n",
    "\r\n",
    "# apply one-hot encoding to each column with categorical data\r\n",
    "OH_encoder = OneHotEncoder(handle_unknown='ignore', sparse=False)\r\n",
    "OH_cols_train = pd.DataFrame(OH_encoder.fit_transform(features_train[object_cols]))\r\n",
    "OH_cols_test = pd.DataFrame(OH_encoder.transform(features_test[object_cols]))\r\n",
    "\r\n",
    "# One-Hot encoding removed index; put it back\r\n",
    "OH_cols_train.index"
   ],
   "outputs": [],
   "metadata": {}
  },
  {
   "cell_type": "code",
   "execution_count": null,
   "source": [],
   "outputs": [],
   "metadata": {}
  },
  {
   "cell_type": "code",
   "execution_count": null,
   "source": [],
   "outputs": [],
   "metadata": {}
  },
  {
   "cell_type": "code",
   "execution_count": null,
   "source": [],
   "outputs": [],
   "metadata": {}
  },
  {
   "cell_type": "code",
   "execution_count": null,
   "source": [],
   "outputs": [],
   "metadata": {}
  },
  {
   "cell_type": "code",
   "execution_count": null,
   "source": [],
   "outputs": [],
   "metadata": {}
  },
  {
   "cell_type": "markdown",
   "source": [
    "<div id=\"model_analysis\">\n",
    "    <h2>Model analysis</h2> \n",
    "</div>"
   ],
   "metadata": {}
  },
  {
   "cell_type": "code",
   "execution_count": null,
   "source": [],
   "outputs": [],
   "metadata": {}
  },
  {
   "cell_type": "code",
   "execution_count": null,
   "source": [],
   "outputs": [],
   "metadata": {}
  },
  {
   "cell_type": "markdown",
   "source": [
    "RMSE is a useful way to see how well a model is able to fit a dataset. The larger the RMSE, the larger the difference between the predicted and observed values, which means the worse a model fits the data. Conversely, the smaller the RMSE, the better a model is able to fit the data.\n",
    "\n",
    "It can be particularly useful to compare the RMSE of two different models with each other to see which model fits the data better."
   ],
   "metadata": {}
  },
  {
   "cell_type": "markdown",
   "source": [
    "<div id=\"conclusion\">\n",
    "    <h2>Conclusion</h2> \n",
    "</div>"
   ],
   "metadata": {}
  },
  {
   "cell_type": "markdown",
   "source": [
    "One way to assess how well a regression model fits a dataset is to calculate the root mean square error, which is a metric that tells us the average distance between the predicted values from the model and the actual values in the dataset.\n",
    "\n",
    "The lower the RMSE, the better a given model is able to “fit” a dataset."
   ],
   "metadata": {}
  },
  {
   "cell_type": "markdown",
   "source": [
    "# Checklist"
   ],
   "metadata": {}
  },
  {
   "cell_type": "markdown",
   "source": [
    "Type 'x' to check. Then press Shift+Enter."
   ],
   "metadata": {}
  },
  {
   "cell_type": "markdown",
   "source": [
    "- [x]  Jupyter Notebook is open\n",
    "- [ ]  Code is error free\n",
    "- [ ]  The cells with the code have been arranged in order of execution\n",
    "- [ ]  The data has been downloaded and prepared\n",
    "- [ ]  The models have been trained\n",
    "- [ ]  The analysis of speed and quality of the models has been performed"
   ],
   "metadata": {}
  },
  {
   "cell_type": "code",
   "execution_count": null,
   "source": [],
   "outputs": [],
   "metadata": {}
  }
 ],
 "metadata": {
  "kernelspec": {
   "display_name": "Python 3",
   "language": "python",
   "name": "python3"
  },
  "language_info": {
   "codemirror_mode": {
    "name": "ipython",
    "version": 3
   },
   "file_extension": ".py",
   "mimetype": "text/x-python",
   "name": "python",
   "nbconvert_exporter": "python",
   "pygments_lexer": "ipython3",
   "version": "3.8.5"
  },
  "toc": {
   "base_numbering": 1,
   "nav_menu": {},
   "number_sections": true,
   "sideBar": true,
   "skip_h1_title": true,
   "title_cell": "Table of Contents",
   "title_sidebar": "Contents",
   "toc_cell": false,
   "toc_position": {},
   "toc_section_display": true,
   "toc_window_display": false
  }
 },
 "nbformat": 4,
 "nbformat_minor": 4
}